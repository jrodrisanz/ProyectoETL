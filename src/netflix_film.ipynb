{
 "cells": [
  {
   "cell_type": "code",
   "execution_count": 1,
   "metadata": {},
   "outputs": [],
   "source": [
    "import pandas as pd\n",
    "import seaborn as sns\n",
    "import pylab as plt\n",
    "import pandas as pd\n",
    "from selenium import webdriver\n",
    "from selenium.webdriver.chrome.options import Options\n",
    "from webdriver_manager.chrome import ChromeDriverManager\n",
    "from selenium.webdriver.support.ui import WebDriverWait   # para esperar a que cargue\n",
    "from selenium.webdriver.support import expected_conditions as EC   # condiciones esperadas\n",
    "from selenium.webdriver.common.keys import Keys\n",
    "from selenium.webdriver.common.by import By # By es para buscar por tag, clase, id...\n",
    "import time\n",
    "import requests\n",
    "import warnings\n",
    "from bs4 import BeautifulSoup\n",
    "from tqdm import tqdm\n",
    "warnings.filterwarnings('ignore')\n",
    "from multiprocessing import Pool"
   ]
  },
  {
   "cell_type": "code",
   "execution_count": 2,
   "metadata": {},
   "outputs": [],
   "source": [
    "data_gen = pd.read_csv('../data/NetflixOriginals.csv', encoding='utf-8', encoding_errors='ignore') #cargamos el archivo\n",
    "data_cred = pd.read_csv('../data/credits.csv', encoding='utf-8', encoding_errors='ignore') \n",
    "data_titles = pd.read_csv('../data/titles.csv', encoding='utf-8', encoding_errors='ignore') \n"
   ]
  },
  {
   "cell_type": "code",
   "execution_count": 3,
   "metadata": {},
   "outputs": [],
   "source": [
    "#driver configuration\n",
    "opciones=Options()\n",
    "\n",
    "opciones.add_experimental_option('excludeSwitches', ['enable-automation'])\n",
    "opciones.add_experimental_option('useAutomationExtension', False)\n",
    "opciones.headless=False    # si True, no aperece la ventana (headless=no visible)\n",
    "opciones.add_argument('--start-maximized')         # comienza maximizado\n",
    "#opciones.add_argument('user-data-dir=selenium')    # mantiene las cookies\n",
    "#opciones.add_extension('driver_folder/adblock.crx')       # adblocker\n",
    "opciones.add_argument('--incognito')\n",
    "\n",
    "# PATH = ChromeDriverManager().install()    # instala driver de chrome\n",
    "\n",
    "# driver = webdriver.Chrome(PATH)      # abre una ventana de chrome"
   ]
  },
  {
   "cell_type": "code",
   "execution_count": 4,
   "metadata": {},
   "outputs": [
    {
     "name": "stdout",
     "output_type": "stream",
     "text": [
      "Review: A one-of-a-kind mind-blowing masterpiece!\n",
      "Rating: 10/10\n",
      "------------------------------\n",
      "Review: Is it possible the makers understand how incredible this film is?\n",
      "Rating: 10/10\n",
      "------------------------------\n",
      "Review: Answering all the questions with one answer: I feel guilt. ⭐\n",
      "Rating: 10/10\n",
      "------------------------------\n",
      "Review: Inception was only less shocking to me than the Matrix\n",
      "Rating: 10/10\n",
      "------------------------------\n",
      "Review: Insanely Brilliant ! Nolan has outdone himself !!\n",
      "Rating: 10/10\n",
      "------------------------------\n",
      "Review: Didn't win Best Picture? WHAT?\n",
      "Rating: 10/10\n",
      "------------------------------\n",
      "Review: In a Decade, \"Inception\" May Be A Religion\n",
      "Rating: 10/10\n",
      "------------------------------\n",
      "Review: Amazingly original...but also a bit overwhelming.\n",
      "Rating: 8/10\n",
      "------------------------------\n",
      "Review: Wait\n",
      "Rating: 8/10\n",
      "------------------------------\n",
      "Review: Sci-fi perfection. A truly mesmerizing film.\n",
      "Rating: 8/10\n",
      "------------------------------\n",
      "Review: My number one favorite movie\n",
      "Rating: 10/10\n",
      "------------------------------\n",
      "Review: Generation defining.\n",
      "Rating: 10/10\n",
      "------------------------------\n",
      "Review: Matrix but in dreamworld? Nah.\n",
      "Rating: 9/10\n",
      "------------------------------\n",
      "Review: Incredible-Nolan keeps improving and Inception is by far the best improvement!\n",
      "Rating: 10/10\n",
      "------------------------------\n",
      "Review: Nolan at his most intelligent best.\n",
      "Rating: 10/10\n",
      "------------------------------\n",
      "Review: This is your first lesson in shared dreaming. Stay calm.\n",
      "Rating: 9/10\n",
      "------------------------------\n",
      "Review: The perfect summer blockbuster?\n",
      "Rating: 10/10\n",
      "------------------------------\n",
      "Review: Come Back Again!\n",
      "Rating: 10/10\n",
      "------------------------------\n",
      "Review: All right.....\n",
      "Rating: 6/10\n",
      "------------------------------\n",
      "Review: A Potpourri of Vestiges Review: Buñuel meets Kubrick in Nolan's most ambitious venture, till date\n",
      "Rating: 9/10\n",
      "------------------------------\n",
      "Review: Inception; Christopher Nolan's masterpiece?\n",
      "Rating: 10/10\n",
      "------------------------------\n",
      "Review: Good idea lost in the noise\n",
      "Rating: 5/10\n",
      "------------------------------\n",
      "Review: Sweet Dreams\n",
      "Rating: 10/10\n",
      "------------------------------\n",
      "Review: Thick and Unnecessarily \"Complicated\"\n",
      "Rating: 4/10\n",
      "------------------------------\n",
      "Review: Dream invasion is the focus of a strange and ambiguous film...\n",
      "Rating: 6/10\n",
      "------------------------------\n"
     ]
    }
   ],
   "source": [
    "\n",
    "#proceso sobre cada película\n",
    "\n",
    "url = 'https://www.imdb.com/title/tt1375666/reviews?ref_=tt_urv'\n",
    "response = requests.get(url)\n",
    "\n",
    "if response.status_code == 200:     #verificamos si la solicitud se ejecuta correctamente\n",
    "    soup = BeautifulSoup(response.text, 'html.parser')      #creamos un objeto BeautifulSoup a partir del contenido HTML\n",
    "    reviews = soup.find_all('div', {'class': 'text show-more__control'})        #buscamos los elementos sobre los que queremos iterar\n",
    "    ratings = soup.find_all('span', {'class': 'rating-other-user-rating'})\n",
    "\n",
    "    for i in range(len(reviews)):       #Iteramos sobre la lista de reseñas y calificaciones\n",
    "        review_div = reviews[i].find_parent('div', {'class': 'lister-item-content'})\n",
    "        review = review_div.find('a', {'class': 'title'}).text.strip() if review_div.find('a', {'class': 'title'}) else 'No title'\n",
    "        rating = ratings[i].text.strip()\n",
    "        print('Review:', review)\n",
    "        print('Rating:', rating)\n",
    "        print('------------------------------')\n",
    "else:\n",
    "    print('Error al enviar solicitud HTTP')\n",
    "\n",
    "\n",
    "\n",
    "\n"
   ]
  },
  {
   "cell_type": "code",
   "execution_count": 8,
   "metadata": {},
   "outputs": [],
   "source": [
    "# mergeamos el df de peliculas de netflix con el de peliculas de IMDB\n",
    "# queremos obtener únicamente los datos de las películas de Netflix\n",
    "\n",
    "\n",
    "data_gen = data_gen.rename(columns={'Title': 'title'})\n",
    "data = pd.merge(data_gen, data_titles, on='title', how='left')      \n"
   ]
  },
  {
   "cell_type": "code",
   "execution_count": 35,
   "metadata": {},
   "outputs": [
    {
     "name": "stderr",
     "output_type": "stream",
     "text": [
      "  3%|▎         | 16/591 [00:38<27:28,  2.87s/it]"
     ]
    },
    {
     "name": "stdout",
     "output_type": "stream",
     "text": [
      "IMDB ID nulo en fila 16, saltando a la siguiente película\n",
      "IMDB ID nulo en fila 17, saltando a la siguiente película\n"
     ]
    },
    {
     "name": "stderr",
     "output_type": "stream",
     "text": [
      "  3%|▎         | 19/591 [00:40<14:22,  1.51s/it]"
     ]
    },
    {
     "name": "stdout",
     "output_type": "stream",
     "text": [
      "IMDB ID nulo en fila 19, saltando a la siguiente película\n"
     ]
    },
    {
     "name": "stderr",
     "output_type": "stream",
     "text": [
      "  4%|▎         | 21/591 [00:42<12:31,  1.32s/it]"
     ]
    },
    {
     "name": "stdout",
     "output_type": "stream",
     "text": [
      "IMDB ID nulo en fila 21, saltando a la siguiente película\n"
     ]
    },
    {
     "name": "stderr",
     "output_type": "stream",
     "text": [
      "  4%|▍         | 26/591 [00:48<12:53,  1.37s/it]"
     ]
    },
    {
     "name": "stdout",
     "output_type": "stream",
     "text": [
      "IMDB ID nulo en fila 26, saltando a la siguiente película\n"
     ]
    },
    {
     "name": "stderr",
     "output_type": "stream",
     "text": [
      "  5%|▌         | 31/591 [00:53<10:19,  1.11s/it]"
     ]
    },
    {
     "name": "stdout",
     "output_type": "stream",
     "text": [
      "IMDB ID nulo en fila 31, saltando a la siguiente película\n"
     ]
    },
    {
     "name": "stderr",
     "output_type": "stream",
     "text": [
      "  6%|▌         | 34/591 [00:56<11:00,  1.19s/it]"
     ]
    },
    {
     "name": "stdout",
     "output_type": "stream",
     "text": [
      "IMDB ID nulo en fila 34, saltando a la siguiente película\n"
     ]
    },
    {
     "name": "stderr",
     "output_type": "stream",
     "text": [
      "  6%|▌         | 36/591 [00:58<09:45,  1.05s/it]"
     ]
    },
    {
     "name": "stdout",
     "output_type": "stream",
     "text": [
      "IMDB ID nulo en fila 36, saltando a la siguiente película\n"
     ]
    },
    {
     "name": "stderr",
     "output_type": "stream",
     "text": [
      "  7%|▋         | 41/591 [01:04<10:53,  1.19s/it]"
     ]
    },
    {
     "name": "stdout",
     "output_type": "stream",
     "text": [
      "IMDB ID nulo en fila 41, saltando a la siguiente película\n"
     ]
    },
    {
     "name": "stderr",
     "output_type": "stream",
     "text": [
      "  9%|▊         | 51/591 [01:15<10:24,  1.16s/it]"
     ]
    },
    {
     "name": "stdout",
     "output_type": "stream",
     "text": [
      "IMDB ID nulo en fila 51, saltando a la siguiente película\n"
     ]
    },
    {
     "name": "stderr",
     "output_type": "stream",
     "text": [
      "  9%|▉         | 55/591 [01:18<09:00,  1.01s/it]"
     ]
    },
    {
     "name": "stdout",
     "output_type": "stream",
     "text": [
      "IMDB ID nulo en fila 55, saltando a la siguiente película\n"
     ]
    },
    {
     "name": "stderr",
     "output_type": "stream",
     "text": [
      " 11%|█▏        | 67/591 [01:33<10:16,  1.18s/it]"
     ]
    },
    {
     "name": "stdout",
     "output_type": "stream",
     "text": [
      "IMDB ID nulo en fila 67, saltando a la siguiente película\n",
      "IMDB ID nulo en fila 68, saltando a la siguiente película\n"
     ]
    },
    {
     "name": "stderr",
     "output_type": "stream",
     "text": [
      " 17%|█▋        | 100/591 [02:11<09:39,  1.18s/it]"
     ]
    },
    {
     "name": "stdout",
     "output_type": "stream",
     "text": [
      "IMDB ID nulo en fila 100, saltando a la siguiente película\n"
     ]
    },
    {
     "name": "stderr",
     "output_type": "stream",
     "text": [
      " 17%|█▋        | 102/591 [02:12<07:34,  1.08it/s]"
     ]
    },
    {
     "name": "stdout",
     "output_type": "stream",
     "text": [
      "IMDB ID nulo en fila 102, saltando a la siguiente película\n"
     ]
    },
    {
     "name": "stderr",
     "output_type": "stream",
     "text": [
      " 18%|█▊        | 107/591 [02:18<09:41,  1.20s/it]"
     ]
    },
    {
     "name": "stdout",
     "output_type": "stream",
     "text": [
      "IMDB ID nulo en fila 107, saltando a la siguiente película\n"
     ]
    },
    {
     "name": "stderr",
     "output_type": "stream",
     "text": [
      " 19%|█▉        | 113/591 [02:37<21:43,  2.73s/it]"
     ]
    },
    {
     "name": "stdout",
     "output_type": "stream",
     "text": [
      "IMDB ID nulo en fila 113, saltando a la siguiente película\n"
     ]
    },
    {
     "name": "stderr",
     "output_type": "stream",
     "text": [
      " 20%|█▉        | 118/591 [02:47<16:41,  2.12s/it]"
     ]
    },
    {
     "name": "stdout",
     "output_type": "stream",
     "text": [
      "IMDB ID nulo en fila 118, saltando a la siguiente película\n"
     ]
    },
    {
     "name": "stderr",
     "output_type": "stream",
     "text": [
      " 26%|██▌       | 154/591 [03:29<09:16,  1.27s/it]"
     ]
    },
    {
     "name": "stdout",
     "output_type": "stream",
     "text": [
      "IMDB ID nulo en fila 154, saltando a la siguiente película\n"
     ]
    },
    {
     "name": "stderr",
     "output_type": "stream",
     "text": [
      " 31%|███▏      | 185/591 [04:28<08:18,  1.23s/it]"
     ]
    },
    {
     "name": "stdout",
     "output_type": "stream",
     "text": [
      "IMDB ID nulo en fila 185, saltando a la siguiente película\n"
     ]
    },
    {
     "name": "stderr",
     "output_type": "stream",
     "text": [
      " 34%|███▍      | 200/591 [04:46<08:41,  1.33s/it]"
     ]
    },
    {
     "name": "stdout",
     "output_type": "stream",
     "text": [
      "IMDB ID nulo en fila 200, saltando a la siguiente película\n",
      "IMDB ID nulo en fila 201, saltando a la siguiente película\n"
     ]
    },
    {
     "name": "stderr",
     "output_type": "stream",
     "text": [
      " 36%|███▌      | 212/591 [04:58<07:05,  1.12s/it]"
     ]
    },
    {
     "name": "stdout",
     "output_type": "stream",
     "text": [
      "IMDB ID nulo en fila 212, saltando a la siguiente película\n"
     ]
    },
    {
     "name": "stderr",
     "output_type": "stream",
     "text": [
      " 38%|███▊      | 227/591 [05:16<08:27,  1.39s/it]"
     ]
    },
    {
     "name": "stdout",
     "output_type": "stream",
     "text": [
      "IMDB ID nulo en fila 227, saltando a la siguiente película\n"
     ]
    },
    {
     "name": "stderr",
     "output_type": "stream",
     "text": [
      " 40%|███▉      | 235/591 [05:25<07:08,  1.20s/it]"
     ]
    },
    {
     "name": "stdout",
     "output_type": "stream",
     "text": [
      "IMDB ID nulo en fila 235, saltando a la siguiente película\n"
     ]
    },
    {
     "name": "stderr",
     "output_type": "stream",
     "text": [
      " 40%|████      | 239/591 [05:28<05:37,  1.04it/s]"
     ]
    },
    {
     "name": "stdout",
     "output_type": "stream",
     "text": [
      "IMDB ID nulo en fila 239, saltando a la siguiente película\n"
     ]
    },
    {
     "name": "stderr",
     "output_type": "stream",
     "text": [
      " 41%|████▏     | 244/591 [05:34<07:30,  1.30s/it]"
     ]
    },
    {
     "name": "stdout",
     "output_type": "stream",
     "text": [
      "IMDB ID nulo en fila 244, saltando a la siguiente película\n"
     ]
    },
    {
     "name": "stderr",
     "output_type": "stream",
     "text": [
      " 42%|████▏     | 247/591 [05:37<06:16,  1.09s/it]"
     ]
    },
    {
     "name": "stdout",
     "output_type": "stream",
     "text": [
      "IMDB ID nulo en fila 247, saltando a la siguiente película\n"
     ]
    },
    {
     "name": "stderr",
     "output_type": "stream",
     "text": [
      " 43%|████▎     | 256/591 [05:47<06:20,  1.14s/it]"
     ]
    },
    {
     "name": "stdout",
     "output_type": "stream",
     "text": [
      "IMDB ID nulo en fila 256, saltando a la siguiente película\n"
     ]
    },
    {
     "name": "stderr",
     "output_type": "stream",
     "text": [
      " 44%|████▎     | 258/591 [05:48<04:59,  1.11it/s]"
     ]
    },
    {
     "name": "stdout",
     "output_type": "stream",
     "text": [
      "IMDB ID nulo en fila 258, saltando a la siguiente película\n"
     ]
    },
    {
     "name": "stderr",
     "output_type": "stream",
     "text": [
      " 45%|████▍     | 263/591 [05:53<05:25,  1.01it/s]"
     ]
    },
    {
     "name": "stdout",
     "output_type": "stream",
     "text": [
      "IMDB ID nulo en fila 263, saltando a la siguiente película\n"
     ]
    },
    {
     "name": "stderr",
     "output_type": "stream",
     "text": [
      " 48%|████▊     | 282/591 [06:14<06:37,  1.29s/it]"
     ]
    },
    {
     "name": "stdout",
     "output_type": "stream",
     "text": [
      "IMDB ID nulo en fila 282, saltando a la siguiente película\n"
     ]
    },
    {
     "name": "stderr",
     "output_type": "stream",
     "text": [
      " 50%|█████     | 297/591 [06:31<05:56,  1.21s/it]"
     ]
    },
    {
     "name": "stdout",
     "output_type": "stream",
     "text": [
      "IMDB ID nulo en fila 297, saltando a la siguiente película\n"
     ]
    },
    {
     "name": "stderr",
     "output_type": "stream",
     "text": [
      " 51%|█████     | 299/591 [06:32<04:18,  1.13it/s]"
     ]
    },
    {
     "name": "stdout",
     "output_type": "stream",
     "text": [
      "IMDB ID nulo en fila 299, saltando a la siguiente película\n",
      "IMDB ID nulo en fila 300, saltando a la siguiente película\n"
     ]
    },
    {
     "name": "stderr",
     "output_type": "stream",
     "text": [
      " 52%|█████▏    | 305/591 [06:36<03:54,  1.22it/s]"
     ]
    },
    {
     "name": "stdout",
     "output_type": "stream",
     "text": [
      "IMDB ID nulo en fila 305, saltando a la siguiente película\n"
     ]
    },
    {
     "name": "stderr",
     "output_type": "stream",
     "text": [
      " 52%|█████▏    | 307/591 [06:37<03:14,  1.46it/s]"
     ]
    },
    {
     "name": "stdout",
     "output_type": "stream",
     "text": [
      "IMDB ID nulo en fila 307, saltando a la siguiente película\n"
     ]
    },
    {
     "name": "stderr",
     "output_type": "stream",
     "text": [
      " 53%|█████▎    | 313/591 [06:43<04:32,  1.02it/s]"
     ]
    },
    {
     "name": "stdout",
     "output_type": "stream",
     "text": [
      "IMDB ID nulo en fila 313, saltando a la siguiente película\n"
     ]
    },
    {
     "name": "stderr",
     "output_type": "stream",
     "text": [
      " 55%|█████▍    | 324/591 [06:55<05:58,  1.34s/it]"
     ]
    },
    {
     "name": "stdout",
     "output_type": "stream",
     "text": [
      "IMDB ID nulo en fila 324, saltando a la siguiente película\n"
     ]
    },
    {
     "name": "stderr",
     "output_type": "stream",
     "text": [
      " 56%|█████▌    | 329/591 [06:59<04:19,  1.01it/s]"
     ]
    },
    {
     "name": "stdout",
     "output_type": "stream",
     "text": [
      "IMDB ID nulo en fila 329, saltando a la siguiente película\n",
      "IMDB ID nulo en fila 330, saltando a la siguiente película\n"
     ]
    },
    {
     "name": "stderr",
     "output_type": "stream",
     "text": [
      " 59%|█████▉    | 350/591 [07:21<04:33,  1.13s/it]"
     ]
    },
    {
     "name": "stdout",
     "output_type": "stream",
     "text": [
      "IMDB ID nulo en fila 350, saltando a la siguiente película\n"
     ]
    },
    {
     "name": "stderr",
     "output_type": "stream",
     "text": [
      " 62%|██████▏   | 368/591 [07:45<04:55,  1.33s/it]"
     ]
    },
    {
     "name": "stdout",
     "output_type": "stream",
     "text": [
      "IMDB ID nulo en fila 368, saltando a la siguiente película\n"
     ]
    },
    {
     "name": "stderr",
     "output_type": "stream",
     "text": [
      " 63%|██████▎   | 375/591 [07:55<05:29,  1.52s/it]"
     ]
    },
    {
     "name": "stdout",
     "output_type": "stream",
     "text": [
      "IMDB ID nulo en fila 375, saltando a la siguiente película\n"
     ]
    },
    {
     "name": "stderr",
     "output_type": "stream",
     "text": [
      " 64%|██████▍   | 378/591 [07:58<04:43,  1.33s/it]"
     ]
    },
    {
     "name": "stdout",
     "output_type": "stream",
     "text": [
      "IMDB ID nulo en fila 378, saltando a la siguiente película\n"
     ]
    },
    {
     "name": "stderr",
     "output_type": "stream",
     "text": [
      " 64%|██████▍   | 380/591 [08:00<04:02,  1.15s/it]"
     ]
    },
    {
     "name": "stdout",
     "output_type": "stream",
     "text": [
      "IMDB ID nulo en fila 380, saltando a la siguiente película\n"
     ]
    },
    {
     "name": "stderr",
     "output_type": "stream",
     "text": [
      " 65%|██████▍   | 383/591 [08:03<03:47,  1.10s/it]"
     ]
    },
    {
     "name": "stdout",
     "output_type": "stream",
     "text": [
      "IMDB ID nulo en fila 383, saltando a la siguiente película\n"
     ]
    },
    {
     "name": "stderr",
     "output_type": "stream",
     "text": [
      " 65%|██████▌   | 385/591 [08:05<03:32,  1.03s/it]"
     ]
    },
    {
     "name": "stdout",
     "output_type": "stream",
     "text": [
      "IMDB ID nulo en fila 385, saltando a la siguiente película\n"
     ]
    },
    {
     "name": "stderr",
     "output_type": "stream",
     "text": [
      " 66%|██████▌   | 389/591 [08:10<03:55,  1.16s/it]"
     ]
    },
    {
     "name": "stdout",
     "output_type": "stream",
     "text": [
      "IMDB ID nulo en fila 389, saltando a la siguiente película\n"
     ]
    },
    {
     "name": "stderr",
     "output_type": "stream",
     "text": [
      " 67%|██████▋   | 395/591 [08:17<04:12,  1.29s/it]"
     ]
    },
    {
     "name": "stdout",
     "output_type": "stream",
     "text": [
      "IMDB ID nulo en fila 395, saltando a la siguiente película\n"
     ]
    },
    {
     "name": "stderr",
     "output_type": "stream",
     "text": [
      " 67%|██████▋   | 398/591 [08:20<03:26,  1.07s/it]"
     ]
    },
    {
     "name": "stdout",
     "output_type": "stream",
     "text": [
      "IMDB ID nulo en fila 398, saltando a la siguiente película\n",
      "IMDB ID nulo en fila 399, saltando a la siguiente película\n"
     ]
    },
    {
     "name": "stderr",
     "output_type": "stream",
     "text": [
      " 68%|██████▊   | 403/591 [08:24<03:01,  1.03it/s]"
     ]
    },
    {
     "name": "stdout",
     "output_type": "stream",
     "text": [
      "IMDB ID nulo en fila 403, saltando a la siguiente película\n"
     ]
    },
    {
     "name": "stderr",
     "output_type": "stream",
     "text": [
      " 69%|██████▉   | 408/591 [08:28<02:59,  1.02it/s]"
     ]
    },
    {
     "name": "stdout",
     "output_type": "stream",
     "text": [
      "IMDB ID nulo en fila 408, saltando a la siguiente película\n"
     ]
    },
    {
     "name": "stderr",
     "output_type": "stream",
     "text": [
      " 71%|███████   | 421/591 [08:44<04:24,  1.56s/it]"
     ]
    },
    {
     "name": "stdout",
     "output_type": "stream",
     "text": [
      "IMDB ID nulo en fila 421, saltando a la siguiente película\n"
     ]
    },
    {
     "name": "stderr",
     "output_type": "stream",
     "text": [
      " 73%|███████▎  | 430/591 [08:53<03:23,  1.26s/it]"
     ]
    },
    {
     "name": "stdout",
     "output_type": "stream",
     "text": [
      "IMDB ID nulo en fila 430, saltando a la siguiente película\n"
     ]
    },
    {
     "name": "stderr",
     "output_type": "stream",
     "text": [
      " 74%|███████▍  | 440/591 [09:04<03:16,  1.30s/it]"
     ]
    },
    {
     "name": "stdout",
     "output_type": "stream",
     "text": [
      "IMDB ID nulo en fila 440, saltando a la siguiente película\n"
     ]
    },
    {
     "name": "stderr",
     "output_type": "stream",
     "text": [
      " 75%|███████▍  | 442/591 [09:06<02:29,  1.00s/it]"
     ]
    },
    {
     "name": "stdout",
     "output_type": "stream",
     "text": [
      "IMDB ID nulo en fila 442, saltando a la siguiente película\n"
     ]
    },
    {
     "name": "stderr",
     "output_type": "stream",
     "text": [
      " 75%|███████▌  | 445/591 [09:08<02:18,  1.05it/s]"
     ]
    },
    {
     "name": "stdout",
     "output_type": "stream",
     "text": [
      "IMDB ID nulo en fila 445, saltando a la siguiente película\n"
     ]
    },
    {
     "name": "stderr",
     "output_type": "stream",
     "text": [
      " 76%|███████▌  | 447/591 [09:10<02:13,  1.08it/s]"
     ]
    },
    {
     "name": "stdout",
     "output_type": "stream",
     "text": [
      "IMDB ID nulo en fila 447, saltando a la siguiente película\n"
     ]
    },
    {
     "name": "stderr",
     "output_type": "stream",
     "text": [
      " 77%|███████▋  | 457/591 [09:22<03:01,  1.35s/it]"
     ]
    },
    {
     "name": "stdout",
     "output_type": "stream",
     "text": [
      "IMDB ID nulo en fila 457, saltando a la siguiente película\n",
      "IMDB ID nulo en fila 458, saltando a la siguiente película\n"
     ]
    },
    {
     "name": "stderr",
     "output_type": "stream",
     "text": [
      " 79%|███████▊  | 465/591 [09:28<01:56,  1.08it/s]"
     ]
    },
    {
     "name": "stdout",
     "output_type": "stream",
     "text": [
      "IMDB ID nulo en fila 465, saltando a la siguiente película\n"
     ]
    },
    {
     "name": "stderr",
     "output_type": "stream",
     "text": [
      " 81%|████████  | 477/591 [09:41<02:14,  1.18s/it]"
     ]
    },
    {
     "name": "stdout",
     "output_type": "stream",
     "text": [
      "IMDB ID nulo en fila 477, saltando a la siguiente película\n",
      "IMDB ID nulo en fila 478, saltando a la siguiente película\n",
      "IMDB ID nulo en fila 479, saltando a la siguiente película\n"
     ]
    },
    {
     "name": "stderr",
     "output_type": "stream",
     "text": [
      " 83%|████████▎ | 488/591 [09:51<01:53,  1.10s/it]"
     ]
    },
    {
     "name": "stdout",
     "output_type": "stream",
     "text": [
      "IMDB ID nulo en fila 488, saltando a la siguiente película\n"
     ]
    },
    {
     "name": "stderr",
     "output_type": "stream",
     "text": [
      " 84%|████████▍ | 496/591 [09:59<01:54,  1.21s/it]"
     ]
    },
    {
     "name": "stdout",
     "output_type": "stream",
     "text": [
      "IMDB ID nulo en fila 496, saltando a la siguiente película\n"
     ]
    },
    {
     "name": "stderr",
     "output_type": "stream",
     "text": [
      " 84%|████████▍ | 498/591 [10:00<01:26,  1.08it/s]"
     ]
    },
    {
     "name": "stdout",
     "output_type": "stream",
     "text": [
      "IMDB ID nulo en fila 498, saltando a la siguiente película\n"
     ]
    },
    {
     "name": "stderr",
     "output_type": "stream",
     "text": [
      " 85%|████████▍ | 502/591 [10:04<01:28,  1.01it/s]"
     ]
    },
    {
     "name": "stdout",
     "output_type": "stream",
     "text": [
      "IMDB ID nulo en fila 502, saltando a la siguiente película\n"
     ]
    },
    {
     "name": "stderr",
     "output_type": "stream",
     "text": [
      " 85%|████████▌ | 504/591 [10:06<01:13,  1.18it/s]"
     ]
    },
    {
     "name": "stdout",
     "output_type": "stream",
     "text": [
      "IMDB ID nulo en fila 504, saltando a la siguiente película\n"
     ]
    },
    {
     "name": "stderr",
     "output_type": "stream",
     "text": [
      " 86%|████████▌ | 507/591 [10:07<01:03,  1.32it/s]"
     ]
    },
    {
     "name": "stdout",
     "output_type": "stream",
     "text": [
      "IMDB ID nulo en fila 507, saltando a la siguiente película\n"
     ]
    },
    {
     "name": "stderr",
     "output_type": "stream",
     "text": [
      " 86%|████████▋ | 511/591 [10:11<01:12,  1.11it/s]"
     ]
    },
    {
     "name": "stdout",
     "output_type": "stream",
     "text": [
      "IMDB ID nulo en fila 511, saltando a la siguiente película\n",
      "IMDB ID nulo en fila 512, saltando a la siguiente película\n"
     ]
    },
    {
     "name": "stderr",
     "output_type": "stream",
     "text": [
      " 88%|████████▊ | 519/591 [10:20<01:25,  1.19s/it]"
     ]
    },
    {
     "name": "stdout",
     "output_type": "stream",
     "text": [
      "IMDB ID nulo en fila 519, saltando a la siguiente película\n"
     ]
    },
    {
     "name": "stderr",
     "output_type": "stream",
     "text": [
      " 89%|████████▉ | 525/591 [10:27<01:24,  1.28s/it]"
     ]
    },
    {
     "name": "stdout",
     "output_type": "stream",
     "text": [
      "IMDB ID nulo en fila 525, saltando a la siguiente película\n"
     ]
    },
    {
     "name": "stderr",
     "output_type": "stream",
     "text": [
      " 89%|████████▉ | 527/591 [10:28<01:03,  1.00it/s]"
     ]
    },
    {
     "name": "stdout",
     "output_type": "stream",
     "text": [
      "IMDB ID nulo en fila 527, saltando a la siguiente película\n"
     ]
    },
    {
     "name": "stderr",
     "output_type": "stream",
     "text": [
      " 90%|████████▉ | 530/591 [10:30<00:54,  1.12it/s]"
     ]
    },
    {
     "name": "stdout",
     "output_type": "stream",
     "text": [
      "IMDB ID nulo en fila 530, saltando a la siguiente película\n"
     ]
    },
    {
     "name": "stderr",
     "output_type": "stream",
     "text": [
      " 90%|█████████ | 534/591 [10:34<00:54,  1.05it/s]"
     ]
    },
    {
     "name": "stdout",
     "output_type": "stream",
     "text": [
      "IMDB ID nulo en fila 534, saltando a la siguiente película\n",
      "IMDB ID nulo en fila 535, saltando a la siguiente película\n"
     ]
    },
    {
     "name": "stderr",
     "output_type": "stream",
     "text": [
      " 91%|█████████ | 538/591 [10:36<00:38,  1.39it/s]"
     ]
    },
    {
     "name": "stdout",
     "output_type": "stream",
     "text": [
      "IMDB ID nulo en fila 538, saltando a la siguiente película\n",
      "IMDB ID nulo en fila 539, saltando a la siguiente película\n"
     ]
    },
    {
     "name": "stderr",
     "output_type": "stream",
     "text": [
      " 92%|█████████▏| 542/591 [10:38<00:33,  1.48it/s]"
     ]
    },
    {
     "name": "stdout",
     "output_type": "stream",
     "text": [
      "IMDB ID nulo en fila 542, saltando a la siguiente película\n",
      "IMDB ID nulo en fila 543, saltando a la siguiente película\n"
     ]
    },
    {
     "name": "stderr",
     "output_type": "stream",
     "text": [
      " 92%|█████████▏| 545/591 [10:39<00:27,  1.70it/s]"
     ]
    },
    {
     "name": "stdout",
     "output_type": "stream",
     "text": [
      "IMDB ID nulo en fila 545, saltando a la siguiente película\n"
     ]
    },
    {
     "name": "stderr",
     "output_type": "stream",
     "text": [
      " 93%|█████████▎| 547/591 [10:40<00:23,  1.87it/s]"
     ]
    },
    {
     "name": "stdout",
     "output_type": "stream",
     "text": [
      "IMDB ID nulo en fila 547, saltando a la siguiente película\n"
     ]
    },
    {
     "name": "stderr",
     "output_type": "stream",
     "text": [
      " 93%|█████████▎| 552/591 [10:45<00:35,  1.11it/s]"
     ]
    },
    {
     "name": "stdout",
     "output_type": "stream",
     "text": [
      "IMDB ID nulo en fila 552, saltando a la siguiente película\n"
     ]
    },
    {
     "name": "stderr",
     "output_type": "stream",
     "text": [
      " 95%|█████████▍| 561/591 [10:56<00:39,  1.32s/it]"
     ]
    },
    {
     "name": "stdout",
     "output_type": "stream",
     "text": [
      "IMDB ID nulo en fila 561, saltando a la siguiente película\n"
     ]
    },
    {
     "name": "stderr",
     "output_type": "stream",
     "text": [
      " 95%|█████████▌| 563/591 [10:58<00:28,  1.03s/it]"
     ]
    },
    {
     "name": "stdout",
     "output_type": "stream",
     "text": [
      "IMDB ID nulo en fila 563, saltando a la siguiente película\n"
     ]
    },
    {
     "name": "stderr",
     "output_type": "stream",
     "text": [
      " 96%|█████████▌| 567/591 [11:02<00:26,  1.11s/it]"
     ]
    },
    {
     "name": "stdout",
     "output_type": "stream",
     "text": [
      "IMDB ID nulo en fila 567, saltando a la siguiente película\n"
     ]
    },
    {
     "name": "stderr",
     "output_type": "stream",
     "text": [
      " 97%|█████████▋| 574/591 [11:09<00:20,  1.21s/it]"
     ]
    },
    {
     "name": "stdout",
     "output_type": "stream",
     "text": [
      "IMDB ID nulo en fila 574, saltando a la siguiente película\n",
      "IMDB ID nulo en fila 575, saltando a la siguiente película\n"
     ]
    },
    {
     "name": "stderr",
     "output_type": "stream",
     "text": [
      " 98%|█████████▊| 579/591 [11:13<00:12,  1.05s/it]"
     ]
    },
    {
     "name": "stdout",
     "output_type": "stream",
     "text": [
      "IMDB ID nulo en fila 579, saltando a la siguiente película\n"
     ]
    },
    {
     "name": "stderr",
     "output_type": "stream",
     "text": [
      " 99%|█████████▊| 583/591 [11:16<00:08,  1.02s/it]"
     ]
    },
    {
     "name": "stdout",
     "output_type": "stream",
     "text": [
      "IMDB ID nulo en fila 583, saltando a la siguiente película\n",
      "IMDB ID nulo en fila 584, saltando a la siguiente película\n",
      "IMDB ID nulo en fila 585, saltando a la siguiente película\n"
     ]
    },
    {
     "name": "stderr",
     "output_type": "stream",
     "text": [
      " 99%|█████████▉| 588/591 [11:19<00:02,  1.45it/s]"
     ]
    },
    {
     "name": "stdout",
     "output_type": "stream",
     "text": [
      "IMDB ID nulo en fila 588, saltando a la siguiente película\n",
      "IMDB ID nulo en fila 589, saltando a la siguiente película\n"
     ]
    },
    {
     "name": "stderr",
     "output_type": "stream",
     "text": [
      "100%|██████████| 591/591 [11:20<00:00,  1.15s/it]\n"
     ]
    }
   ],
   "source": [
    "\n",
    "#proceso sobre todas las películas\n",
    "\n",
    "comentarios = {'imdb_id': [], 'comentarios': []}        #diccionario vacío donde almacenaremos los comentarios de las películas\n",
    "\n",
    "for i in tqdm(range(len(data))):\n",
    "    imdb_id = data.loc[i, 'imdb_id']        # Obtenemos el ID de la película\n",
    "    if pd.isna(imdb_id):                    # Si el ID es nulo, saltamos a la siguiente fila\n",
    "        print(f'IMDB ID nulo en fila {i}, saltando a la siguiente película')\n",
    "        continue\n",
    "    url = f'https://www.imdb.com/title/{imdb_id}/reviews?ref_=tt_ov_rt'     # Creamos la URL de los comentarios de la película usando su ID\n",
    "    response = requests.get(url)\n",
    "    if response.status_code == 200:\n",
    "        soup = BeautifulSoup(response.text, 'html.parser')\n",
    "        reviews = soup.find_all('div', {'class': 'text show-more__control'})        #buscamos los elementos sobre los que queremos iterar\n",
    "        ratings = soup.find_all('span', {'class': 'rating-other-user-rating'})\n",
    "        comentarios_pelicula = {'imdb_id': imdb_id, 'comentarios': []}\n",
    "        for i in range(len(reviews)):\n",
    "            review_div = reviews[i].find_parent('div', {'class': 'lister-item-content'})        # Obtenemos comentarios y calificación\n",
    "            review = review_div.find('a', {'class': 'title'}).text.strip() if review_div.find('a', {'class': 'title'}) else 'No title'\n",
    "            rating = ratings[i].text.strip() if len(ratings) > i else 'Sin calificación'\n",
    "            comentario = {'review': review, 'rating': rating}           #creamos un diccionario para almacenar comentario y calificación\n",
    "            comentarios_pelicula['comentarios'].append(comentario)      #Añadimos el comentario al diccionario de comentarios\n",
    "            comentarios['imdb_id'].append(imdb_id)\n",
    "            comentarios['comentarios'].append(comentarios_pelicula)\n",
    "            #print(f'Comentarios de película con IMDB ID {imdb_id} obtenidos')\n",
    "    else:\n",
    "        print(f'Error al obtener comentarios de la película con IMDB ID {imdb_id}')\n",
    "\n",
    "df_comentarios = pd.DataFrame(comentarios)\n",
    "df_comentarios.to_csv('comentarios_peliculas.csv', index=False)\n",
    "\n",
    "\n",
    "\n"
   ]
  },
  {
   "cell_type": "code",
   "execution_count": 60,
   "metadata": {},
   "outputs": [],
   "source": [
    "IMDB_coment = pd.read_csv('comentarios_peliculas.csv', encoding='utf-8', encoding_errors='ignore') \n"
   ]
  },
  {
   "cell_type": "code",
   "execution_count": 61,
   "metadata": {},
   "outputs": [],
   "source": [
    "IMDB_coment.drop_duplicates(inplace=True)       #eliminamos las filas duplicadas"
   ]
  },
  {
   "cell_type": "code",
   "execution_count": 62,
   "metadata": {},
   "outputs": [],
   "source": [
    "IMDB_coment.reset_index(drop=True, inplace=True)    #reteamos el indice\n",
    "\n"
   ]
  },
  {
   "cell_type": "code",
   "execution_count": 63,
   "metadata": {},
   "outputs": [],
   "source": [
    "IMDB_coment.to_csv('../data/comentarios_clean.csv', index=False)\n",
    "data.to_csv('../data/data_netflix.csv', index=False)"
   ]
  },
  {
   "cell_type": "code",
   "execution_count": 10,
   "metadata": {},
   "outputs": [
    {
     "data": {
      "text/plain": [
       "id                      10.659898\n",
       "type                    10.659898\n",
       "description             10.659898\n",
       "release_year            10.659898\n",
       "age_certification       69.373942\n",
       "runtime                 10.659898\n",
       "genres                  10.659898\n",
       "production_countries    10.659898\n",
       "seasons                 99.830795\n",
       "imdb_id                 16.582064\n",
       "imdb_score              17.258883\n",
       "imdb_votes              17.428088\n",
       "tmdb_popularity         10.659898\n",
       "tmdb_score              10.998308\n",
       "dtype: float64"
      ]
     },
     "execution_count": 10,
     "metadata": {},
     "output_type": "execute_result"
    }
   ],
   "source": [
    "nan_cols = data.isna().mean() * 100  # porcentaje de nulos de la tabla Titles\n",
    "nan_cols[nan_cols>0]"
   ]
  },
  {
   "cell_type": "code",
   "execution_count": 11,
   "metadata": {},
   "outputs": [
    {
     "data": {
      "text/plain": [
       "<Axes: >"
      ]
     },
     "execution_count": 11,
     "metadata": {},
     "output_type": "execute_result"
    },
    {
     "data": {
      "image/png": "[encoded data removed]",
      "text/plain": [
       "<Figure size 1000x600 with 1 Axes>"
      ]
     },
     "metadata": {},
     "output_type": "display_data"
    }
   ],
   "source": [
    "plt.figure(figsize=(10, 6))\n",
    "\n",
    "sns.heatmap(data.isna(),    \n",
    "                yticklabels=False,  \n",
    "                cmap='viridis',     \n",
    "                cbar=False,         \n",
    "               )"
   ]
  },
  {
   "cell_type": "code",
   "execution_count": 15,
   "metadata": {},
   "outputs": [
    {
     "data": {
      "text/html": [
       "<div>\n",
       "<style scoped>\n",
       "    .dataframe tbody tr th:only-of-type {\n",
       "        vertical-align: middle;\n",
       "    }\n",
       "\n",
       "    .dataframe tbody tr th {\n",
       "        vertical-align: top;\n",
       "    }\n",
       "\n",
       "    .dataframe thead th {\n",
       "        text-align: right;\n",
       "    }\n",
       "</style>\n",
       "<table border=\"1\" class=\"dataframe\">\n",
       "  <thead>\n",
       "    <tr style=\"text-align: right;\">\n",
       "      <th></th>\n",
       "      <th>title</th>\n",
       "      <th>Genre</th>\n",
       "      <th>Premiere</th>\n",
       "      <th>Runtime</th>\n",
       "      <th>IMDB Score</th>\n",
       "      <th>Language</th>\n",
       "      <th>id</th>\n",
       "      <th>type</th>\n",
       "      <th>description</th>\n",
       "      <th>release_year</th>\n",
       "      <th>age_certification</th>\n",
       "      <th>runtime</th>\n",
       "      <th>genres</th>\n",
       "      <th>production_countries</th>\n",
       "      <th>seasons</th>\n",
       "      <th>imdb_id</th>\n",
       "      <th>imdb_score</th>\n",
       "      <th>imdb_votes</th>\n",
       "      <th>tmdb_popularity</th>\n",
       "      <th>tmdb_score</th>\n",
       "    </tr>\n",
       "  </thead>\n",
       "  <tbody>\n",
       "    <tr>\n",
       "      <th>0</th>\n",
       "      <td>Enter the Anime</td>\n",
       "      <td>Documentary</td>\n",
       "      <td>August 5, 2019</td>\n",
       "      <td>58</td>\n",
       "      <td>2.5</td>\n",
       "      <td>English/Japanese</td>\n",
       "      <td>tm821164</td>\n",
       "      <td>MOVIE</td>\n",
       "      <td>What is anime? Through deep-dives with notable...</td>\n",
       "      <td>2019.0</td>\n",
       "      <td>NaN</td>\n",
       "      <td>58.0</td>\n",
       "      <td>['documentation']</td>\n",
       "      <td>['US', 'JP']</td>\n",
       "      <td>NaN</td>\n",
       "      <td>tt10662450</td>\n",
       "      <td>2.6</td>\n",
       "      <td>1647.0</td>\n",
       "      <td>4.750</td>\n",
       "      <td>5.7</td>\n",
       "    </tr>\n",
       "    <tr>\n",
       "      <th>1</th>\n",
       "      <td>Dark Forces</td>\n",
       "      <td>Thriller</td>\n",
       "      <td>August 21, 2020</td>\n",
       "      <td>81</td>\n",
       "      <td>2.6</td>\n",
       "      <td>Spanish</td>\n",
       "      <td>tm925785</td>\n",
       "      <td>MOVIE</td>\n",
       "      <td>In search of his sister, a renegade criminal s...</td>\n",
       "      <td>2020.0</td>\n",
       "      <td>NaN</td>\n",
       "      <td>81.0</td>\n",
       "      <td>['horror', 'thriller', 'action']</td>\n",
       "      <td>['MX']</td>\n",
       "      <td>NaN</td>\n",
       "      <td>tt12536776</td>\n",
       "      <td>2.7</td>\n",
       "      <td>597.0</td>\n",
       "      <td>4.030</td>\n",
       "      <td>4.3</td>\n",
       "    </tr>\n",
       "    <tr>\n",
       "      <th>2</th>\n",
       "      <td>The App</td>\n",
       "      <td>Science fiction/Drama</td>\n",
       "      <td>December 26, 2019</td>\n",
       "      <td>79</td>\n",
       "      <td>2.6</td>\n",
       "      <td>Italian</td>\n",
       "      <td>tm847630</td>\n",
       "      <td>MOVIE</td>\n",
       "      <td>Loving girlfriend, family fortune, breakout mo...</td>\n",
       "      <td>2019.0</td>\n",
       "      <td>NaN</td>\n",
       "      <td>79.0</td>\n",
       "      <td>['drama', 'scifi', 'thriller']</td>\n",
       "      <td>['IT']</td>\n",
       "      <td>NaN</td>\n",
       "      <td>tt11385066</td>\n",
       "      <td>2.7</td>\n",
       "      <td>1347.0</td>\n",
       "      <td>7.473</td>\n",
       "      <td>2.9</td>\n",
       "    </tr>\n",
       "    <tr>\n",
       "      <th>3</th>\n",
       "      <td>The Open House</td>\n",
       "      <td>Horror thriller</td>\n",
       "      <td>January 19, 2018</td>\n",
       "      <td>94</td>\n",
       "      <td>3.2</td>\n",
       "      <td>English</td>\n",
       "      <td>tm357820</td>\n",
       "      <td>MOVIE</td>\n",
       "      <td>A teenager and his mother find themselves besi...</td>\n",
       "      <td>2018.0</td>\n",
       "      <td>NaN</td>\n",
       "      <td>94.0</td>\n",
       "      <td>['thriller', 'horror']</td>\n",
       "      <td>['US']</td>\n",
       "      <td>NaN</td>\n",
       "      <td>tt7608028</td>\n",
       "      <td>3.3</td>\n",
       "      <td>34156.0</td>\n",
       "      <td>13.150</td>\n",
       "      <td>3.7</td>\n",
       "    </tr>\n",
       "    <tr>\n",
       "      <th>4</th>\n",
       "      <td>Kaali Khuhi</td>\n",
       "      <td>Mystery</td>\n",
       "      <td>October 30, 2020</td>\n",
       "      <td>90</td>\n",
       "      <td>3.4</td>\n",
       "      <td>Hindi</td>\n",
       "      <td>tm940566</td>\n",
       "      <td>MOVIE</td>\n",
       "      <td>When a restless spirit curses a Punjab village...</td>\n",
       "      <td>2020.0</td>\n",
       "      <td>NaN</td>\n",
       "      <td>90.0</td>\n",
       "      <td>['thriller', 'horror', 'drama']</td>\n",
       "      <td>['IN']</td>\n",
       "      <td>NaN</td>\n",
       "      <td>tt10235600</td>\n",
       "      <td>3.5</td>\n",
       "      <td>1230.0</td>\n",
       "      <td>1.950</td>\n",
       "      <td>4.8</td>\n",
       "    </tr>\n",
       "  </tbody>\n",
       "</table>\n",
       "</div>"
      ],
      "text/plain": [
       "             title                  Genre           Premiere  Runtime   \n",
       "0  Enter the Anime            Documentary     August 5, 2019       58  \\\n",
       "1      Dark Forces               Thriller    August 21, 2020       81   \n",
       "2          The App  Science fiction/Drama  December 26, 2019       79   \n",
       "3   The Open House        Horror thriller   January 19, 2018       94   \n",
       "4      Kaali Khuhi                Mystery   October 30, 2020       90   \n",
       "\n",
       "   IMDB Score          Language        id   type   \n",
       "0         2.5  English/Japanese  tm821164  MOVIE  \\\n",
       "1         2.6           Spanish  tm925785  MOVIE   \n",
       "2         2.6           Italian  tm847630  MOVIE   \n",
       "3         3.2           English  tm357820  MOVIE   \n",
       "4         3.4             Hindi  tm940566  MOVIE   \n",
       "\n",
       "                                         description  release_year   \n",
       "0  What is anime? Through deep-dives with notable...        2019.0  \\\n",
       "1  In search of his sister, a renegade criminal s...        2020.0   \n",
       "2  Loving girlfriend, family fortune, breakout mo...        2019.0   \n",
       "3  A teenager and his mother find themselves besi...        2018.0   \n",
       "4  When a restless spirit curses a Punjab village...        2020.0   \n",
       "\n",
       "  age_certification  runtime                            genres   \n",
       "0               NaN     58.0                 ['documentation']  \\\n",
       "1               NaN     81.0  ['horror', 'thriller', 'action']   \n",
       "2               NaN     79.0    ['drama', 'scifi', 'thriller']   \n",
       "3               NaN     94.0            ['thriller', 'horror']   \n",
       "4               NaN     90.0   ['thriller', 'horror', 'drama']   \n",
       "\n",
       "  production_countries  seasons     imdb_id  imdb_score  imdb_votes   \n",
       "0         ['US', 'JP']      NaN  tt10662450         2.6      1647.0  \\\n",
       "1               ['MX']      NaN  tt12536776         2.7       597.0   \n",
       "2               ['IT']      NaN  tt11385066         2.7      1347.0   \n",
       "3               ['US']      NaN   tt7608028         3.3     34156.0   \n",
       "4               ['IN']      NaN  tt10235600         3.5      1230.0   \n",
       "\n",
       "   tmdb_popularity  tmdb_score  \n",
       "0            4.750         5.7  \n",
       "1            4.030         4.3  \n",
       "2            7.473         2.9  \n",
       "3           13.150         3.7  \n",
       "4            1.950         4.8  "
      ]
     },
     "execution_count": 15,
     "metadata": {},
     "output_type": "execute_result"
    }
   ],
   "source": [
    "data.head()"
   ]
  },
  {
   "cell_type": "code",
   "execution_count": 13,
   "metadata": {},
   "outputs": [
    {
     "data": {
      "text/html": [
       "<div>\n",
       "<style scoped>\n",
       "    .dataframe tbody tr th:only-of-type {\n",
       "        vertical-align: middle;\n",
       "    }\n",
       "\n",
       "    .dataframe tbody tr th {\n",
       "        vertical-align: top;\n",
       "    }\n",
       "\n",
       "    .dataframe thead th {\n",
       "        text-align: right;\n",
       "    }\n",
       "</style>\n",
       "<table border=\"1\" class=\"dataframe\">\n",
       "  <thead>\n",
       "    <tr style=\"text-align: right;\">\n",
       "      <th></th>\n",
       "      <th>person_id</th>\n",
       "      <th>id</th>\n",
       "      <th>name</th>\n",
       "      <th>character</th>\n",
       "      <th>role</th>\n",
       "    </tr>\n",
       "  </thead>\n",
       "  <tbody>\n",
       "    <tr>\n",
       "      <th>0</th>\n",
       "      <td>3748</td>\n",
       "      <td>tm84618</td>\n",
       "      <td>Robert De Niro</td>\n",
       "      <td>Travis Bickle</td>\n",
       "      <td>ACTOR</td>\n",
       "    </tr>\n",
       "    <tr>\n",
       "      <th>1</th>\n",
       "      <td>14658</td>\n",
       "      <td>tm84618</td>\n",
       "      <td>Jodie Foster</td>\n",
       "      <td>Iris Steensma</td>\n",
       "      <td>ACTOR</td>\n",
       "    </tr>\n",
       "    <tr>\n",
       "      <th>2</th>\n",
       "      <td>7064</td>\n",
       "      <td>tm84618</td>\n",
       "      <td>Albert Brooks</td>\n",
       "      <td>Tom</td>\n",
       "      <td>ACTOR</td>\n",
       "    </tr>\n",
       "    <tr>\n",
       "      <th>3</th>\n",
       "      <td>3739</td>\n",
       "      <td>tm84618</td>\n",
       "      <td>Harvey Keitel</td>\n",
       "      <td>Matthew 'Sport' Higgins</td>\n",
       "      <td>ACTOR</td>\n",
       "    </tr>\n",
       "    <tr>\n",
       "      <th>4</th>\n",
       "      <td>48933</td>\n",
       "      <td>tm84618</td>\n",
       "      <td>Cybill Shepherd</td>\n",
       "      <td>Betsy</td>\n",
       "      <td>ACTOR</td>\n",
       "    </tr>\n",
       "    <tr>\n",
       "      <th>...</th>\n",
       "      <td>...</td>\n",
       "      <td>...</td>\n",
       "      <td>...</td>\n",
       "      <td>...</td>\n",
       "      <td>...</td>\n",
       "    </tr>\n",
       "    <tr>\n",
       "      <th>77796</th>\n",
       "      <td>736339</td>\n",
       "      <td>tm1059008</td>\n",
       "      <td>Adelaida Buscato</td>\n",
       "      <td>María Paz</td>\n",
       "      <td>ACTOR</td>\n",
       "    </tr>\n",
       "    <tr>\n",
       "      <th>77797</th>\n",
       "      <td>399499</td>\n",
       "      <td>tm1059008</td>\n",
       "      <td>Luz Stella Luengas</td>\n",
       "      <td>Karen Bayona</td>\n",
       "      <td>ACTOR</td>\n",
       "    </tr>\n",
       "    <tr>\n",
       "      <th>77798</th>\n",
       "      <td>373198</td>\n",
       "      <td>tm1059008</td>\n",
       "      <td>Inés Prieto</td>\n",
       "      <td>Fanny</td>\n",
       "      <td>ACTOR</td>\n",
       "    </tr>\n",
       "    <tr>\n",
       "      <th>77799</th>\n",
       "      <td>378132</td>\n",
       "      <td>tm1059008</td>\n",
       "      <td>Isabel Gaona</td>\n",
       "      <td>Cacica</td>\n",
       "      <td>ACTOR</td>\n",
       "    </tr>\n",
       "    <tr>\n",
       "      <th>77800</th>\n",
       "      <td>1950416</td>\n",
       "      <td>tm1059008</td>\n",
       "      <td>Julian Gaviria</td>\n",
       "      <td>NaN</td>\n",
       "      <td>DIRECTOR</td>\n",
       "    </tr>\n",
       "  </tbody>\n",
       "</table>\n",
       "<p>77801 rows × 5 columns</p>\n",
       "</div>"
      ],
      "text/plain": [
       "       person_id         id                name                character   \n",
       "0           3748    tm84618      Robert De Niro            Travis Bickle  \\\n",
       "1          14658    tm84618        Jodie Foster            Iris Steensma   \n",
       "2           7064    tm84618       Albert Brooks                      Tom   \n",
       "3           3739    tm84618       Harvey Keitel  Matthew 'Sport' Higgins   \n",
       "4          48933    tm84618     Cybill Shepherd                    Betsy   \n",
       "...          ...        ...                 ...                      ...   \n",
       "77796     736339  tm1059008    Adelaida Buscato                María Paz   \n",
       "77797     399499  tm1059008  Luz Stella Luengas             Karen Bayona   \n",
       "77798     373198  tm1059008         Inés Prieto                    Fanny   \n",
       "77799     378132  tm1059008        Isabel Gaona                   Cacica   \n",
       "77800    1950416  tm1059008      Julian Gaviria                      NaN   \n",
       "\n",
       "           role  \n",
       "0         ACTOR  \n",
       "1         ACTOR  \n",
       "2         ACTOR  \n",
       "3         ACTOR  \n",
       "4         ACTOR  \n",
       "...         ...  \n",
       "77796     ACTOR  \n",
       "77797     ACTOR  \n",
       "77798     ACTOR  \n",
       "77799     ACTOR  \n",
       "77800  DIRECTOR  \n",
       "\n",
       "[77801 rows x 5 columns]"
      ]
     },
     "execution_count": 13,
     "metadata": {},
     "output_type": "execute_result"
    }
   ],
   "source": [
    "data_cred"
   ]
  },
  {
   "cell_type": "code",
   "execution_count": 18,
   "metadata": {},
   "outputs": [
    {
     "name": "stderr",
     "output_type": "stream",
     "text": [
      "100%|██████████| 591/591 [02:01<00:00,  4.87it/s]\n"
     ]
    }
   ],
   "source": [
    "with open('../api_key.txt') as f:\n",
    "    api_key = f.read().strip() # lee el contenido del archivo y elimina los espacios en blanco al principio y al final\n",
    "\n",
    "\n",
    "search_url = 'https://api.themoviedb.org/3/search/movie'\n",
    "\n",
    "# Cargar el DataFrame con el nombre de las películas\n",
    "df = pd.read_csv('../data/data_netflix.csv')\n",
    "\n",
    "# Recorrer cada fila del DataFrame y obtener los detalles completos de la película\n",
    "genres = []\n",
    "for index, row in tqdm(df.iterrows(), total=len(df)):\n",
    "    # Hacer una solicitud GET para buscar la película por nombre\n",
    "    params = {'api_key': api_key, 'query': row['title']}\n",
    "    response = requests.get(search_url, params=params)\n",
    "    movies = response.json()['results']\n",
    "    \n",
    "    if len(movies) > 0:\n",
    "        # Si se encontró la película, obtener sus detalles completos\n",
    "        movie_id = movies[0]['id']\n",
    "        movie_details_url = f'https://api.themoviedb.org/3/movie/{movie_id}?api_key={api_key}'\n",
    "        movie_details_response = requests.get(movie_details_url)\n",
    "        movie_details = movie_details_response.json()\n",
    "        genre_names = [genre['name'] for genre in movie_details['genres']]\n",
    "        genres.append(', '.join(genre_names))\n",
    "    else:\n",
    "        # Si no se encontró la película, agregar un valor nulo\n",
    "        genres.append(None)\n",
    "\n",
    "# Agregar una nueva columna al DataFrame con los géneros de cada película\n",
    "df['generos'] = genres\n",
    "\n",
    "# Guardar el DataFrame actualizado en un nuevo archivo CSV\n",
    "#df.to_csv('data_netflix.csv', index=False)\n",
    "\n"
   ]
  },
  {
   "cell_type": "code",
   "execution_count": 20,
   "metadata": {},
   "outputs": [],
   "source": [
    "# Guardar el DataFrame actualizado en un nuevo archivo CSV\n",
    "#df.to_csv('data_netflix.csv', index=False)"
   ]
  },
  {
   "cell_type": "code",
   "execution_count": null,
   "metadata": {},
   "outputs": [],
   "source": []
  }
 ],
 "metadata": {
  "kernelspec": {
   "display_name": "ETL",
   "language": "python",
   "name": "python3"
  },
  "language_info": {
   "codemirror_mode": {
    "name": "ipython",
    "version": 3
   },
   "file_extension": ".py",
   "mimetype": "text/x-python",
   "name": "python",
   "nbconvert_exporter": "python",
   "pygments_lexer": "ipython3",
   "version": "3.9.16"
  },
  "orig_nbformat": 4
 },
 "nbformat": 4,
 "nbformat_minor": 2
}
